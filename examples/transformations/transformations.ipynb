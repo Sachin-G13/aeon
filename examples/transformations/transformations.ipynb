{
 "cells": [
  {
   "cell_type": "markdown",
   "metadata": {},
   "source": [
    "# Transforming time series with aeon\n",
    "\n",
    "Transformers are objects that transform data from one representation to another. `aeon`\n",
    "contains time series specific transformers which can be used in\n",
    "pipelines in conjunction with other estimators.\n",
    "Note: the term \"transformer\" is used in deep learning to refer to specific neural\n",
    "network architectures. `aeon` transformers follow the `scikit-learn` design: they\n",
    "have `fit`, `transform` and `fit_transform`  methods that combine the two functions.\n",
    "Some transformers also have `inverse_transform` that allows you to reverse the change.\n",
    "\n",
    "`aeon` distinguishes different types of transformer, depending on the input type accepted\n",
    "by the `fit` and `transform` methods. The main distinction is whether all series types\n",
    "(i.e. single time series, collections of time series, hierarchical time series) are accepted\n",
    "and implicitly converted, or whether only a singular input type (i.e. collections) is accepted."
   ]
  },
  {
   "cell_type": "markdown",
   "metadata": {},
   "source": [
    "## Transformers\n",
    "\n",
    "General transformers (in the package `aeon/transformations`, `aeon/transformations`,\n",
    "`aeon/transformations/bootstrap` and `aeon/transformations/hierarchical`) aim to\n",
    "accept all input types, and will attempt to restructure the data or broadcast to multiple transformer\n",
    "objects if necessary to fit the input data to the data structure used by the transformer. For example,\n",
    "if the class excepts a singular series but is given a collection of series, a separate instance of the\n",
    "transformer is applied independently to each series. Transformers all extend the base class\n",
    "`BaseTransformer`. General transformations are mostly used for single series tasks such as forecasting\n",
    "and annotation, and are best used with `pd.Series` or `pd.DataFrame` input. Other valid data types will\n",
    "be accepted but are likely to be converted to another format internally, see the\n",
    "[data structures](../datasets/data_structures.ipynb) notebook for clarification of how\n",
    "best\n",
    "to store\n",
    "data with aeon.\n",
    "\n",
    "Transformers differ in terms of whether they convert time series into different time series\n",
    "(series-to-series transformation), or whether they convert series into feature vector(s)\n",
    "(series-to-vector transformation).\n",
    "\n",
    "To illustrate the difference, we compare two single-series transformers with different output:\n",
    "\n",
    "* the Box-Cox transformer `BoxCoxTransformer`, a series-to-series transformer using the\n",
    "[Box Cox power transform](https://en.wikipedia.org/wiki/Power_transform#Box%E2%80%93Cox_transformation).\n",
    "* the summary transformer `SummaryTransformer`, a series-to-vector transformer that\n",
    "finds summary statistics such as the mean an standard deviation of each series.\n"
   ]
  },
  {
   "cell_type": "code",
   "execution_count": 29,
   "source": [
    "import warnings\n",
    "\n",
    "warnings.filterwarnings(\"ignore\")"
   ],
   "metadata": {
    "collapsed": false,
    "ExecuteTime": {
     "end_time": "2024-03-01T16:16:25.993971Z",
     "start_time": "2024-03-01T16:16:25.989981Z"
    }
   },
   "outputs": []
  },
  {
   "cell_type": "code",
   "execution_count": 30,
   "metadata": {
    "ExecuteTime": {
     "end_time": "2024-03-01T16:16:26.098690Z",
     "start_time": "2024-03-01T16:16:26.088717Z"
    }
   },
   "source": [
    "from aeon.datasets import load_airline\n",
    "from aeon.transformations.boxcox import BoxCoxTransformer\n",
    "from aeon.transformations.summarize import SummaryTransformer\n",
    "from aeon.visualisation import plot_series\n",
    "\n",
    "boxcox_trans = BoxCoxTransformer()\n",
    "summary_trans = SummaryTransformer()\n",
    "\n",
    "# airline is a single time series stored in a pd.Series\n",
    "airline = load_airline()\n",
    "\n",
    "type(airline)"
   ],
   "outputs": []
  },
  {
   "cell_type": "code",
   "execution_count": 31,
   "source": [
    "airline[:5]"
   ],
   "metadata": {
    "collapsed": false,
    "ExecuteTime": {
     "end_time": "2024-03-01T16:16:26.108664Z",
     "start_time": "2024-03-01T16:16:26.102680Z"
    }
   },
   "outputs": []
  },
  {
   "cell_type": "code",
   "execution_count": 32,
   "source": [
    "plot_series(airline)"
   ],
   "metadata": {
    "collapsed": false,
    "ExecuteTime": {
     "end_time": "2024-03-01T16:16:26.291176Z",
     "start_time": "2024-03-01T16:16:26.109661Z"
    }
   },
   "outputs": []
  },
  {
   "cell_type": "code",
   "execution_count": 33,
   "metadata": {
    "ExecuteTime": {
     "end_time": "2024-03-01T16:16:26.302147Z",
     "start_time": "2024-03-01T16:16:26.293172Z"
    }
   },
   "source": [
    "# this produces a pandas Series containing the transformed series\n",
    "airline_bc = boxcox_trans.fit_transform(airline)\n",
    "type(airline_bc)"
   ],
   "outputs": []
  },
  {
   "cell_type": "code",
   "execution_count": 34,
   "source": [
    "airline_bc[:5]"
   ],
   "metadata": {
    "collapsed": false,
    "ExecuteTime": {
     "end_time": "2024-03-01T16:16:26.313117Z",
     "start_time": "2024-03-01T16:16:26.304142Z"
    }
   },
   "outputs": []
  },
  {
   "cell_type": "code",
   "execution_count": 35,
   "source": [
    "plot_series(airline_bc)"
   ],
   "metadata": {
    "collapsed": false,
    "ExecuteTime": {
     "end_time": "2024-03-01T16:16:26.492637Z",
     "start_time": "2024-03-01T16:16:26.315112Z"
    }
   },
   "outputs": []
  },
  {
   "cell_type": "code",
   "execution_count": 36,
   "metadata": {
    "ExecuteTime": {
     "end_time": "2024-03-01T16:16:26.504605Z",
     "start_time": "2024-03-01T16:16:26.493634Z"
    }
   },
   "source": [
    "# this produces a pandas.DataFrame containing the feature vector for our single series\n",
    "airline_summary = summary_trans.fit_transform(airline)\n",
    "type(airline_summary)"
   ],
   "outputs": []
  },
  {
   "cell_type": "code",
   "execution_count": 37,
   "source": [
    "airline_summary"
   ],
   "metadata": {
    "collapsed": false,
    "ExecuteTime": {
     "end_time": "2024-03-01T16:16:26.516574Z",
     "start_time": "2024-03-01T16:16:26.505602Z"
    }
   },
   "outputs": []
  },
  {
   "cell_type": "markdown",
   "source": [
    "You can get a list of all series-to-series and series-to-vector transformers using\n",
    "the output tags. Please consult the API for details on each transformations"
   ],
   "metadata": {
    "collapsed": false
   }
  },
  {
   "cell_type": "code",
   "execution_count": 38,
   "source": [
    "from aeon.registry import all_estimators\n",
    "\n",
    "all_estimators(\n",
    "    \"transformer\",\n",
    "    exclude_estimator_types=\"collection-transformer\",\n",
    "    filter_tags={\n",
    "        \"output_data_type\": [\"Series\", \"Collection\"],\n",
    "    },\n",
    "    as_dataframe=True,\n",
    ")"
   ],
   "metadata": {
    "collapsed": false,
    "pycharm": {
     "is_executing": true
    },
    "ExecuteTime": {
     "end_time": "2024-03-01T16:16:26.612317Z",
     "start_time": "2024-03-01T16:16:26.517570Z"
    }
   },
   "outputs": []
  },
  {
   "cell_type": "code",
   "execution_count": 39,
   "source": [
    "all_estimators(\n",
    "    \"transformer\",\n",
    "    exclude_estimator_types=\"collection-transformer\",\n",
    "    filter_tags={\n",
    "        \"output_data_type\": \"Tabular\",\n",
    "    },\n",
    "    as_dataframe=True,\n",
    ")"
   ],
   "metadata": {
    "collapsed": false,
    "ExecuteTime": {
     "end_time": "2024-03-01T16:16:26.686120Z",
     "start_time": "2024-03-01T16:16:26.613314Z"
    }
   },
   "outputs": []
  },
  {
   "cell_type": "markdown",
   "source": [
    "If your series is split into training and testing data, you should call `fit` and\n",
    "`transform` separately. `BoxCoxTransformer` has a parameter `lambda` that can be\n",
    "learned from the train data:"
   ],
   "metadata": {
    "collapsed": false
   }
  },
  {
   "cell_type": "code",
   "execution_count": 40,
   "metadata": {
    "ExecuteTime": {
     "end_time": "2024-03-01T16:16:26.695096Z",
     "start_time": "2024-03-01T16:16:26.687117Z"
    }
   },
   "source": [
    "from aeon.forecasting.model_selection import temporal_train_test_split\n",
    "\n",
    "train, test = temporal_train_test_split(airline)\n",
    "boxcox = BoxCoxTransformer(method=\"mle\")\n",
    "test[:5]"
   ],
   "outputs": []
  },
  {
   "cell_type": "markdown",
   "source": [
    "You can then apply the model without refitting lambda using just `transform`:"
   ],
   "metadata": {
    "collapsed": false
   }
  },
  {
   "cell_type": "code",
   "execution_count": 41,
   "metadata": {
    "ExecuteTime": {
     "end_time": "2024-03-01T16:16:26.709058Z",
     "start_time": "2024-03-01T16:16:26.698088Z"
    }
   },
   "source": [
    "# fit the transformer on the training data\n",
    "boxcox.fit(train)\n",
    "# apply to test data\n",
    "test_new = boxcox.transform(test)\n",
    "test_new[:5]"
   ],
   "outputs": []
  },
  {
   "cell_type": "markdown",
   "metadata": {},
   "source": [
    "Fitted model components of transformers can be found with the `get_fitted_params()`\n",
    "method:"
   ]
  },
  {
   "cell_type": "code",
   "execution_count": 42,
   "metadata": {
    "ExecuteTime": {
     "end_time": "2024-03-01T16:16:26.716040Z",
     "start_time": "2024-03-01T16:16:26.710056Z"
    }
   },
   "source": [
    "boxcox.get_fitted_params()\n",
    "# this is a pandas.DataFrame that contains the fitted transformers"
   ],
   "outputs": []
  },
  {
   "cell_type": "markdown",
   "metadata": {},
   "source": [
    "### Pipelines with transformers\n",
    "\n",
    "Tasks such as forecasting are not compatible with `sklearn` pipelines, because `fit` and `predict`\n",
    "are used differently and require different input. They can still be combined into `aeon` pipelines. The easiest\n",
    "way to do this is with `make_pipeline`. Pipelines can be a combinations of\n",
    "`BaseTransformer` objects, or a combination of `BaseTransformer` and estimators such\n",
    "as forecasters, classifiers or regressors:"
   ]
  },
  {
   "cell_type": "code",
   "execution_count": 43,
   "metadata": {
    "ExecuteTime": {
     "end_time": "2024-03-01T16:16:26.726013Z",
     "start_time": "2024-03-01T16:16:26.717037Z"
    }
   },
   "source": [
    "from aeon.forecasting.naive import NaiveForecaster\n",
    "from aeon.pipeline import make_pipeline\n",
    "from aeon.transformations.difference import Differencer\n",
    "\n",
    "pipe = make_pipeline(Differencer(), NaiveForecaster(strategy=\"last\", sp=12))\n",
    "\n",
    "# this constructs a TransformedTargetForecaster, which is also a forecaster\n",
    "pipe"
   ],
   "outputs": []
  },
  {
   "cell_type": "code",
   "execution_count": 44,
   "metadata": {
    "ExecuteTime": {
     "end_time": "2024-03-01T16:16:26.750947Z",
     "start_time": "2024-03-01T16:16:26.727010Z"
    }
   },
   "source": [
    "# this is a forecaster with the same interface as NaiveForecaster\n",
    "# first applies differencer, then naive forecaster, then inverts differencing\n",
    "pipe.fit(airline, fh=list(range(1, 13)))\n",
    "forecast = pipe.predict()\n",
    "print(forecast)"
   ],
   "outputs": []
  },
  {
   "cell_type": "code",
   "execution_count": 45,
   "source": [
    "plot_series(airline, forecast)"
   ],
   "metadata": {
    "collapsed": false,
    "ExecuteTime": {
     "end_time": "2024-03-01T16:16:26.916939Z",
     "start_time": "2024-03-01T16:16:26.751944Z"
    }
   },
   "outputs": []
  },
  {
   "cell_type": "code",
   "execution_count": 46,
   "source": [
    "from aeon.transformations.summarize import SummaryTransformer\n",
    "\n",
    "trans_pipe = make_pipeline(Differencer(), SummaryTransformer())\n",
    "\n",
    "trans_pipe"
   ],
   "metadata": {
    "collapsed": false,
    "ExecuteTime": {
     "end_time": "2024-03-01T16:16:26.926949Z",
     "start_time": "2024-03-01T16:16:26.917937Z"
    }
   },
   "outputs": []
  },
  {
   "cell_type": "code",
   "execution_count": 47,
   "source": [
    "trans_pipe.fit_transform(airline)"
   ],
   "metadata": {
    "collapsed": false,
    "ExecuteTime": {
     "end_time": "2024-03-01T16:16:26.953867Z",
     "start_time": "2024-03-01T16:16:26.928908Z"
    }
   },
   "outputs": []
  },
  {
   "cell_type": "markdown",
   "metadata": {},
   "source": [
    "## Collection Transformers\n",
    "\n",
    "Collection transformers inherit from `BaseCollectionTransformer`, itself a subclass\n",
    "of `BaseTransformer`. Collection transformers differ from the other transformers in\n",
    "`aeon` in that the only accept collections of series, and they are more likely to not\n",
    "transform each series independently. A `BaseCollectionTransformer` works best with the same\n",
    "data structures used by clusterers, regressors and classifiers: 3D numpy of shape\n",
    "`(n_cases, n_channels, n_timepoints)` for equal length series or a list of 2D numpy `[n_cases]`.\n",
    " Like before, other valid collection input types can be used.\n",
    " See the [data storage notebook](../datasets/data_structures.ipynb) for more\n",
    " details.\n"
   ]
  },
  {
   "cell_type": "code",
   "execution_count": 48,
   "source": [
    "from aeon.datasets import load_arrow_head, load_basic_motions, load_covid_3month\n",
    "\n",
    "# univariate classification\n",
    "arrows, arrows_labels = load_arrow_head()\n",
    "# multivariate classification\n",
    "motions, motions_labels = load_basic_motions()\n",
    "# univariate regression\n",
    "covid, covid_response = load_covid_3month()\n",
    "\n",
    "print(\"Arrows shape (n_cases, n_channels, n_timepoints) = \", arrows.shape)\n",
    "print(\"Motions shape (n_cases, n_channels, n_timepoints) = \", motions.shape)\n",
    "print(\"Covid shape (n_cases, n_channels, n_timepoints) = \", covid.shape)"
   ],
   "metadata": {
    "collapsed": false,
    "ExecuteTime": {
     "end_time": "2024-03-01T16:16:26.999718Z",
     "start_time": "2024-03-01T16:16:26.954838Z"
    }
   },
   "outputs": []
  },
  {
   "cell_type": "markdown",
   "source": [
    "Collection transformers can also be series-to-series or series-to-vector. Most transformers will\n",
    "always transform a collection of $n$ series into a collection of $n$ series or\n",
    "vectors. For example, `Catch22` transforms each channel of each series into 22 summary features.\n"
   ],
   "metadata": {
    "collapsed": false
   }
  },
  {
   "cell_type": "code",
   "execution_count": 49,
   "source": [
    "from aeon.transformations.collection.feature_based import Catch22\n",
    "\n",
    "c22 = Catch22()\n",
    "t = c22.fit_transform(arrows)\n",
    "t.shape"
   ],
   "metadata": {
    "collapsed": false,
    "ExecuteTime": {
     "end_time": "2024-03-01T16:16:27.121393Z",
     "start_time": "2024-03-01T16:16:27.000715Z"
    }
   },
   "outputs": []
  },
  {
   "cell_type": "markdown",
   "source": [
    "Series-to-series transformers transform each series into a different series. This can\n",
    " mean it has a different number of channels and/or be different length. For example,\n",
    " `ElbowClassPairwise` performs a supervised channel selection to reduce\n",
    " dimensionality. In the example below, it selects the best two channels from BasicMotions."
   ],
   "metadata": {
    "collapsed": false
   }
  },
  {
   "cell_type": "code",
   "execution_count": 50,
   "source": [
    "from aeon.transformations.collection import ElbowClassPairwise\n",
    "\n",
    "ecp = ElbowClassPairwise()\n",
    "t2 = ecp.fit_transform(motions, motions_labels)\n",
    "t2.shape"
   ],
   "metadata": {
    "collapsed": false,
    "ExecuteTime": {
     "end_time": "2024-03-01T16:16:27.152310Z",
     "start_time": "2024-03-01T16:16:27.122391Z"
    }
   },
   "outputs": []
  },
  {
   "cell_type": "markdown",
   "source": [
    "series-to-vector Collection transformers return array-like objects of shape `(n_cases, n_features)`, so\n",
    "they can be used with sklearn classifiers or regressors directly or in a pipeline. The following are equivalent."
   ],
   "metadata": {
    "collapsed": false
   }
  },
  {
   "cell_type": "code",
   "execution_count": 51,
   "source": [
    "from sklearn.linear_model import LogisticRegression\n",
    "from sklearn.metrics import accuracy_score\n",
    "from sklearn.model_selection import train_test_split\n",
    "\n",
    "arrows_train, arrows_test, y_train, y_test = train_test_split(\n",
    "    arrows, arrows_labels, test_size=0.33\n",
    ")\n",
    "\n",
    "c22 = Catch22()\n",
    "c22_train = c22.fit_transform(arrows_train, y_train)\n",
    "\n",
    "lr = LogisticRegression()\n",
    "lr.fit(c22_train, y_train)\n",
    "\n",
    "c22_test = c22.transform(arrows_test, y_test)\n",
    "preds = lr.predict(c22_test)\n",
    "accuracy_score(y_test, preds)"
   ],
   "metadata": {
    "collapsed": false,
    "ExecuteTime": {
     "end_time": "2024-03-01T16:16:27.300647Z",
     "start_time": "2024-03-01T16:16:27.153307Z"
    }
   },
   "outputs": []
  },
  {
   "cell_type": "code",
   "execution_count": 52,
   "source": [
    "from sklearn.pipeline import Pipeline\n",
    "\n",
    "pipe = Pipeline(steps=[(\"catch22\", c22), (\"logistic\", lr)])\n",
    "pipe.fit(arrows_train, y_train)\n",
    "preds = pipe.predict(arrows_test)\n",
    "accuracy_score(y_test, preds)"
   ],
   "metadata": {
    "collapsed": false,
    "ExecuteTime": {
     "end_time": "2024-03-01T16:16:27.441605Z",
     "start_time": "2024-03-01T16:16:27.301645Z"
    }
   },
   "outputs": []
  },
  {
   "cell_type": "markdown",
   "source": [
    "Series-to-series collection transformers can be used in an sklearn pipeline with an\n",
    "`aeon` classifier or regressor"
   ],
   "metadata": {
    "collapsed": false
   }
  },
  {
   "cell_type": "code",
   "execution_count": 53,
   "source": [
    "from sklearn.metrics import mean_squared_error\n",
    "\n",
    "from aeon.regression.distance_based import KNeighborsTimeSeriesRegressor\n",
    "\n",
    "knn = KNeighborsTimeSeriesRegressor(distance=\"euclidean\")\n",
    "pipe = Pipeline(steps=[(\"ECP\", ecp), (\"knn\", knn)])\n",
    "covid_train, covid_test, y_train, y_test = train_test_split(\n",
    "    covid, covid_response, test_size=0.75\n",
    ")\n",
    "pipe.fit(covid_train, y_train)"
   ],
   "metadata": {
    "collapsed": false,
    "ExecuteTime": {
     "end_time": "2024-03-01T16:16:30.862948Z",
     "start_time": "2024-03-01T16:16:27.442603Z"
    }
   },
   "outputs": []
  },
  {
   "cell_type": "code",
   "execution_count": 54,
   "source": [
    "preds = pipe.predict(covid_test)\n",
    "mean_squared_error(y_test, preds)"
   ],
   "metadata": {
    "collapsed": false,
    "ExecuteTime": {
     "end_time": "2024-03-01T16:16:30.880933Z",
     "start_time": "2024-03-01T16:16:30.863946Z"
    }
   },
   "outputs": []
  },
  {
   "cell_type": "markdown",
   "source": [
    "### Wrapping as a general transformer\n",
    "\n",
    "Collection transformers can be wrapped to have to same functionality as a `BaseTransformer` using the `CollectionToSeriesWrapper`."
   ],
   "metadata": {
    "collapsed": false
   }
  },
  {
   "cell_type": "code",
   "execution_count": 55,
   "source": [
    "from aeon.transformations.collection import CollectionToSeriesWrapper\n",
    "\n",
    "c22 = Catch22()\n",
    "wrapper = CollectionToSeriesWrapper(c22)  # wrap transformer to accept single series\n",
    "\n",
    "wrapper.fit_transform(airline)"
   ],
   "metadata": {
    "collapsed": false,
    "ExecuteTime": {
     "end_time": "2024-03-01T16:16:30.935785Z",
     "start_time": "2024-03-01T16:16:30.881930Z"
    }
   },
   "outputs": []
  }
 ],
 "metadata": {
  "hide_input": false,
  "kernelspec": {
   "display_name": "Python 3.8.12 ('aeon-baseobject')",
   "language": "python",
   "name": "python3"
  },
  "language_info": {
   "codemirror_mode": {
    "name": "ipython",
    "version": 3
   },
   "file_extension": ".py",
   "mimetype": "text/x-python",
   "name": "python",
   "nbconvert_exporter": "python",
   "pygments_lexer": "ipython3",
   "version": "3.8.12"
  },
  "latex_envs": {
   "LaTeX_envs_menu_present": true,
   "autoclose": false,
   "autocomplete": true,
   "bibliofile": "biblio.bib",
   "cite_by": "apalike",
   "current_citInitial": 1,
   "eqLabelWithNumbers": true,
   "eqNumInitial": 1,
   "hotkeys": {
    "equation": "Ctrl-E",
    "itemize": "Ctrl-I"
   },
   "labels_anchors": false,
   "latex_user_defs": false,
   "report_style_numbering": false,
   "user_envs_cfg": false
  },
  "toc": {
   "base_numbering": 1,
   "nav_menu": {},
   "number_sections": true,
   "sideBar": true,
   "skip_h1_title": false,
   "title_cell": "Table of Contents",
   "title_sidebar": "Contents",
   "toc_cell": false,
   "toc_position": {},
   "toc_section_display": true,
   "toc_window_display": false
  },
  "varInspector": {
   "cols": {
    "lenName": 16,
    "lenType": 16,
    "lenVar": 40
   },
   "kernels_config": {
    "python": {
     "delete_cmd_postfix": "",
     "delete_cmd_prefix": "del ",
     "library": "var_list.py",
     "varRefreshCmd": "print(var_dic_list())"
    },
    "r": {
     "delete_cmd_postfix": ") ",
     "delete_cmd_prefix": "rm(",
     "library": "var_list.r",
     "varRefreshCmd": "cat(var_dic_list()) "
    }
   },
   "types_to_exclude": [
    "module",
    "function",
    "builtin_function_or_method",
    "instance",
    "_Feature"
   ],
   "window_display": false
  },
  "vscode": {
   "interpreter": {
    "hash": "ff39becaf9fb8fe58d1d34fc2c63ee411a5dd80719d9cd02520236b9e8461a42"
   }
  }
 },
 "nbformat": 4,
 "nbformat_minor": 4
}
