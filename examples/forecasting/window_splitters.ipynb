{
 "cells": [
  {
   "cell_type": "markdown",
   "metadata": {},
   "source": [
    "# Window Splitters in aeon\n",
    "\n",
    "In this notebook we describe the window splitters included in the [aeon.forecasting.model_selection](https://github.com/aeon-toolkit/aeon/blob/main/aeon/forecasting/model_selection/_split.py) module. These splitters can be combined with `ForecastingGridSearchCV` for model selection (see [forecasting notebook](forecasting.ipynb)).\n",
    "\n",
    "**Remark:** It is important to emphasize that for cross-validation in time series we can not randomly shuffle the data as we would be leaking information.\n",
    "\n",
    "**References:**\n",
    "- [Cross-validation: evaluating estimator performance](https://scikit-learn.org/stable/modules/cross_validation.html#cross-validation)\n",
    "- [Cross-validation for time series](https://robjhyndman.com/hyndsight/tscv/)"
   ]
  },
  {
   "cell_type": "markdown",
   "metadata": {},
   "source": [
    "## Preliminaries"
   ]
  },
  {
   "cell_type": "code",
   "execution_count": 1,
   "metadata": {
    "ExecuteTime": {
     "end_time": "2023-08-24T16:25:31.945834400Z",
     "start_time": "2023-08-24T16:25:30.951950700Z"
    }
   },
   "source": [
    "from warnings import simplefilter\n",
    "\n",
    "import matplotlib.pyplot as plt\n",
    "import numpy as np\n",
    "import seaborn as sns\n",
    "from matplotlib.ticker import MaxNLocator\n",
    "\n",
    "from aeon.datasets import load_airline\n",
    "from aeon.forecasting.base import ForecastingHorizon\n",
    "from aeon.forecasting.model_selection import (\n",
    "    CutoffSplitter,\n",
    "    ExpandingWindowSplitter,\n",
    "    SingleWindowSplitter,\n",
    "    SlidingWindowSplitter,\n",
    "    temporal_train_test_split,\n",
    ")\n",
    "from aeon.visualisation import plot_series"
   ],
   "outputs": []
  },
  {
   "cell_type": "code",
   "execution_count": 2,
   "metadata": {
    "ExecuteTime": {
     "end_time": "2023-08-24T16:25:31.953828300Z",
     "start_time": "2023-08-24T16:25:31.939850500Z"
    }
   },
   "source": [
    "def plot_windows(y, train_windows, test_windows, title=\"\"):\n",
    "    \"\"\"Visualize training and test windows\"\"\"\n",
    "\n",
    "    simplefilter(\"ignore\", category=UserWarning)\n",
    "\n",
    "    def get_y(length, split):\n",
    "        # Create a constant vector based on the split for y-axis.\"\"\"\n",
    "        return np.ones(length) * split\n",
    "\n",
    "    n_splits = len(train_windows)\n",
    "    n_timepoints = len(y)\n",
    "    len_test = len(test_windows[0])\n",
    "\n",
    "    train_color, test_color = sns.color_palette(\"colorblind\")[:2]\n",
    "\n",
    "    fig, ax = plt.subplots(figsize=plt.figaspect(0.3))\n",
    "\n",
    "    for i in range(n_splits):\n",
    "        train = train_windows[i]\n",
    "        test = test_windows[i]\n",
    "\n",
    "        ax.plot(\n",
    "            np.arange(n_timepoints), get_y(n_timepoints, i), marker=\"o\", c=\"lightgray\"\n",
    "        )\n",
    "        ax.plot(\n",
    "            train,\n",
    "            get_y(len(train), i),\n",
    "            marker=\"o\",\n",
    "            c=train_color,\n",
    "            label=\"Window\",\n",
    "        )\n",
    "        ax.plot(\n",
    "            test,\n",
    "            get_y(len_test, i),\n",
    "            marker=\"o\",\n",
    "            c=test_color,\n",
    "            label=\"Forecasting horizon\",\n",
    "        )\n",
    "    ax.invert_yaxis()\n",
    "    ax.yaxis.set_major_locator(MaxNLocator(integer=True))\n",
    "    ax.set(\n",
    "        title=title,\n",
    "        ylabel=\"Window number\",\n",
    "        xlabel=\"Time\",\n",
    "        xticklabels=y.index,\n",
    "    )\n",
    "    # remove duplicate labels/handles\n",
    "    handles, labels = [(leg[:2]) for leg in ax.get_legend_handles_labels()]\n",
    "    ax.legend(handles, labels)"
   ],
   "outputs": []
  },
  {
   "cell_type": "markdown",
   "metadata": {},
   "source": [
    "## Data\n",
    "\n",
    "We use a fraction of the Box-Jenkins univariate airline data set, which shows the number of international airline passengers per month from 1949 - 1960."
   ]
  },
  {
   "cell_type": "code",
   "execution_count": 3,
   "metadata": {
    "ExecuteTime": {
     "end_time": "2023-08-24T16:25:32.048559400Z",
     "start_time": "2023-08-24T16:25:31.953828300Z"
    }
   },
   "source": [
    "# We are interested on a portion of the total data set.\n",
    "# (for visualisatiion purposes)\n",
    "y = load_airline().iloc[:30]\n",
    "y.head()"
   ],
   "outputs": []
  },
  {
   "cell_type": "code",
   "execution_count": 4,
   "metadata": {
    "ExecuteTime": {
     "end_time": "2023-08-24T16:25:32.298890900Z",
     "start_time": "2023-08-24T16:25:32.012655500Z"
    }
   },
   "source": [
    "fig, ax = plot_series(y)"
   ],
   "outputs": []
  },
  {
   "cell_type": "markdown",
   "metadata": {},
   "source": [
    "## Visualizing temporal cross-validation window splitters\n",
    "\n",
    "Now we describe each of the splitters."
   ]
  },
  {
   "cell_type": "markdown",
   "metadata": {},
   "source": [
    "### A single train-test split using `temporal_train_test_split`\n",
    "\n",
    "This one splits the data into training and test sets. You can either (i) set the size of the training or test set or (ii) use a forecasting horizon."
   ]
  },
  {
   "cell_type": "code",
   "execution_count": 5,
   "metadata": {
    "ExecuteTime": {
     "end_time": "2023-08-24T16:25:32.564687800Z",
     "start_time": "2023-08-24T16:25:32.298222700Z"
    }
   },
   "source": [
    "# setting test set size\n",
    "y_train, y_test = temporal_train_test_split(y=y, test_size=0.25)\n",
    "plot_series(y_train, y_test, labels=[\"y_train\", \"y_test\"])"
   ],
   "outputs": []
  },
  {
   "cell_type": "code",
   "execution_count": 6,
   "metadata": {
    "ExecuteTime": {
     "end_time": "2023-08-24T16:25:32.808463100Z",
     "start_time": "2023-08-24T16:25:32.562694Z"
    }
   },
   "source": [
    "# using forecasting horizon\n",
    "fh = ForecastingHorizon([1, 2, 3, 4, 5])\n",
    "y_train, y_test = temporal_train_test_split(y, fh=fh)\n",
    "plot_series(y_train, y_test, labels=[\"y_train\", \"y_test\"]);"
   ],
   "outputs": []
  },
  {
   "cell_type": "markdown",
   "metadata": {},
   "source": [
    "### Single split using `SingleWindowSplitter`\n",
    "\n",
    "This class splits the time series once into a training and test window. Note that this is very similar to `temporal_train_test_split`.\n",
    "\n",
    "Let us define the parameters of our fold:"
   ]
  },
  {
   "cell_type": "code",
   "execution_count": 7,
   "metadata": {
    "ExecuteTime": {
     "end_time": "2023-08-24T16:25:32.813439700Z",
     "start_time": "2023-08-24T16:25:32.808463100Z"
    }
   },
   "source": [
    "# set splitter parameters\n",
    "window_length = 5\n",
    "fh = ForecastingHorizon([1, 2, 3])"
   ],
   "outputs": []
  },
  {
   "cell_type": "code",
   "execution_count": 8,
   "metadata": {
    "ExecuteTime": {
     "end_time": "2023-08-24T16:25:32.821418400Z",
     "start_time": "2023-08-24T16:25:32.813439700Z"
    }
   },
   "source": [
    "cv = SingleWindowSplitter(window_length=window_length, fh=fh)\n",
    "n_splits = cv.get_n_splits(y)\n",
    "print(f\"Number of Folds = {n_splits}\")"
   ],
   "outputs": []
  },
  {
   "cell_type": "markdown",
   "metadata": {},
   "source": [
    "Let us plot the unique fold generated. First we define some helper functions:"
   ]
  },
  {
   "cell_type": "code",
   "execution_count": 9,
   "metadata": {
    "ExecuteTime": {
     "end_time": "2023-08-24T16:25:32.825407800Z",
     "start_time": "2023-08-24T16:25:32.822415400Z"
    }
   },
   "source": [
    "def get_windows(y, cv):\n",
    "    \"\"\"Generate windows\"\"\"\n",
    "    train_windows = []\n",
    "    test_windows = []\n",
    "    for i, (train, test) in enumerate(cv.split(y)):\n",
    "        train_windows.append(train)\n",
    "        test_windows.append(test)\n",
    "    return train_windows, test_windows"
   ],
   "outputs": []
  },
  {
   "cell_type": "markdown",
   "metadata": {},
   "source": [
    "Now we generate the plot:"
   ]
  },
  {
   "cell_type": "code",
   "execution_count": 10,
   "metadata": {
    "ExecuteTime": {
     "end_time": "2023-08-24T16:25:33.043893300Z",
     "start_time": "2023-08-24T16:25:32.829397500Z"
    }
   },
   "source": [
    "train_windows, test_windows = get_windows(y, cv)\n",
    "plot_windows(y, train_windows, test_windows)"
   ],
   "outputs": []
  },
  {
   "cell_type": "code",
   "execution_count": 11,
   "metadata": {
    "ExecuteTime": {
     "end_time": "2023-08-24T16:25:33.048880400Z",
     "start_time": "2023-08-24T16:25:33.043893300Z"
    }
   },
   "source": [
    "test_windows"
   ],
   "outputs": []
  },
  {
   "cell_type": "code",
   "execution_count": 12,
   "metadata": {
    "ExecuteTime": {
     "end_time": "2023-08-24T16:25:33.056859Z",
     "start_time": "2023-08-24T16:25:33.050875100Z"
    }
   },
   "source": [
    "train_windows"
   ],
   "outputs": []
  },
  {
   "cell_type": "markdown",
   "metadata": {},
   "source": [
    "### Sliding windows using `SlidingWindowSplitter`\n",
    "\n",
    "This splitter generates folds which move with time. The length of the training and test sets for each fold remains constant."
   ]
  },
  {
   "cell_type": "code",
   "execution_count": 13,
   "metadata": {
    "ExecuteTime": {
     "end_time": "2023-08-24T16:25:33.060848300Z",
     "start_time": "2023-08-24T16:25:33.055862400Z"
    }
   },
   "source": [
    "cv = SlidingWindowSplitter(window_length=window_length, fh=fh)\n",
    "\n",
    "n_splits = cv.get_n_splits(y)\n",
    "print(f\"Number of Folds = {n_splits}\")"
   ],
   "outputs": []
  },
  {
   "cell_type": "code",
   "execution_count": 14,
   "metadata": {
    "ExecuteTime": {
     "end_time": "2023-08-24T16:25:33.537573500Z",
     "start_time": "2023-08-24T16:25:33.061845500Z"
    }
   },
   "source": [
    "train_windows, test_windows = get_windows(y, cv)\n",
    "plot_windows(y, train_windows, test_windows)"
   ],
   "outputs": []
  },
  {
   "cell_type": "markdown",
   "metadata": {},
   "source": [
    "### Sliding windows using `SlidingWindowSplitter` with an initial window\n",
    "\n",
    "This splitter generates folds which move with time. The length of the training and test sets for each fold remains constant."
   ]
  },
  {
   "cell_type": "code",
   "execution_count": 15,
   "metadata": {
    "ExecuteTime": {
     "end_time": "2023-08-24T16:25:33.541275900Z",
     "start_time": "2023-08-24T16:25:33.536577500Z"
    }
   },
   "source": [
    "cv = SlidingWindowSplitter(window_length=window_length, fh=fh, initial_window=10)\n",
    "\n",
    "n_splits = cv.get_n_splits(y)\n",
    "print(f\"Number of Folds = {n_splits}\")"
   ],
   "outputs": []
  },
  {
   "cell_type": "code",
   "execution_count": 16,
   "metadata": {
    "ExecuteTime": {
     "end_time": "2023-08-24T16:25:33.951274400Z",
     "start_time": "2023-08-24T16:25:33.542273900Z"
    }
   },
   "source": [
    "train_windows, test_windows = get_windows(y, cv)\n",
    "plot_windows(y, train_windows, test_windows)"
   ],
   "outputs": []
  },
  {
   "cell_type": "markdown",
   "metadata": {},
   "source": [
    "### Expanding windows using `ExpandingWindowSplitter`\n",
    "\n",
    "This splitter generates folds which move with time. The length of the training set each fold grows while test sets for each fold remains constant."
   ]
  },
  {
   "cell_type": "code",
   "execution_count": 17,
   "metadata": {
    "ExecuteTime": {
     "end_time": "2023-08-24T16:25:33.958171100Z",
     "start_time": "2023-08-24T16:25:33.951274400Z"
    }
   },
   "source": [
    "cv = ExpandingWindowSplitter(initial_window=window_length, fh=fh)\n",
    "\n",
    "n_splits = cv.get_n_splits(y)\n",
    "print(f\"Number of Folds = {n_splits}\")"
   ],
   "outputs": []
  },
  {
   "cell_type": "code",
   "execution_count": 18,
   "metadata": {
    "ExecuteTime": {
     "end_time": "2023-08-24T16:25:34.426381800Z",
     "start_time": "2023-08-24T16:25:33.957164Z"
    }
   },
   "source": [
    "train_windows, test_windows = get_windows(y, cv)\n",
    "plot_windows(y, train_windows, test_windows)"
   ],
   "outputs": []
  },
  {
   "cell_type": "markdown",
   "metadata": {},
   "source": [
    "### Multiple splits at specific cutoff values - `CutoffSplitter`\n",
    "\n",
    "With this splitter we can manually select the cutoff points."
   ]
  },
  {
   "cell_type": "code",
   "execution_count": 19,
   "metadata": {
    "ExecuteTime": {
     "end_time": "2023-08-24T16:25:34.434360900Z",
     "start_time": "2023-08-24T16:25:34.428376600Z"
    }
   },
   "source": [
    "# Specify cutoff points (by array index).\n",
    "cutoffs = np.array([10, 13, 15, 25])\n",
    "\n",
    "cv = CutoffSplitter(cutoffs=cutoffs, window_length=window_length, fh=fh)\n",
    "\n",
    "n_splits = cv.get_n_splits(y)\n",
    "print(f\"Number of Folds = {n_splits}\")"
   ],
   "outputs": []
  },
  {
   "cell_type": "code",
   "execution_count": 20,
   "metadata": {
    "ExecuteTime": {
     "end_time": "2023-08-24T16:25:34.699650800Z",
     "start_time": "2023-08-24T16:25:34.433363Z"
    }
   },
   "source": [
    "train_windows, test_windows = get_windows(y, cv)\n",
    "plot_windows(y, train_windows, test_windows)"
   ],
   "outputs": []
  },
  {
   "cell_type": "code",
   "execution_count": 21,
   "metadata": {
    "ExecuteTime": {
     "end_time": "2023-08-24T16:25:34.700648300Z",
     "start_time": "2023-08-24T16:25:34.681699600Z"
    }
   },
   "source": [
    "train_windows"
   ],
   "outputs": []
  },
  {
   "cell_type": "code",
   "execution_count": 22,
   "metadata": {
    "ExecuteTime": {
     "end_time": "2023-08-24T16:25:34.700648300Z",
     "start_time": "2023-08-24T16:25:34.687683300Z"
    }
   },
   "source": [
    "test_windows"
   ],
   "outputs": []
  }
 ],
 "metadata": {
  "kernelspec": {
   "display_name": "Python 3",
   "language": "python",
   "name": "python3"
  },
  "language_info": {
   "codemirror_mode": {
    "name": "ipython",
    "version": 3
   },
   "file_extension": ".py",
   "mimetype": "text/x-python",
   "name": "python",
   "nbconvert_exporter": "python",
   "pygments_lexer": "ipython3",
   "version": "3.7.8"
  }
 },
 "nbformat": 4,
 "nbformat_minor": 2
}
