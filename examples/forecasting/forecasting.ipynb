{
 "cells": [
  {
   "cell_type": "markdown",
   "source": [
    "# Time series forecasting with aeon\n",
    "\n",
    "This notebook describes the new, experimental, forecasting module in aeon. We have\n",
    "recently removed a lot of legacy code that was almost entirely wrappers around other\n",
    "projects, mostly statsmodels. Most of\n",
    "the contributors to aeon are from a computer science/machine learning background\n",
    "rather than stats and forecasting, and our objectives for forecasting have changed to\n",
    " reflect this. Our focus is on:\n",
    "\n",
    "1. not attempting to be a comprehensive forecasting package.\n",
    "\n",
    "\n",
    "We are not trying to do all things in forecasting. There are many packages that do\n",
    "that already. Our previous experience taught us that trying to be all things to all\n",
    "people resulted in over engineered spaghetti that was hard to maintain, understand or\n",
    " use.\n",
    "\n",
    "2. fast forecasting with numpy arrays.\n",
    "\n",
    "Whilst our forecasters will work with data frames, our design principle is to write\n",
    "code optimised with numba and numpy. We found that extensive use of data frames in\n",
    "the internal calculations of forecasters makes them much slower and harder to\n",
    "understand for those not used to using dataframes daily.\n",
    "\n",
    "3. forecasting using machine learning and deep learning.\n",
    "\n",
    "we want to implement and assess the latest machine learning and deep learning\n",
    "forecasting for scenarios where it makes sense to use them. Our initial experimental\n",
    "focus will be on forecasting with long series for a single forecasting horizon.\n"
   ],
   "metadata": {
    "collapsed": false
   }
  },
  {
   "cell_type": "markdown",
   "source": [
    "## Base Class\n",
    "\n",
    "Our first design choice for forecasting is to pass the forecasting horizon in the\n",
    "constructor (default is 1). This is because we want a simpler use case: a forecaster\n",
    "trains to predict so many places in the future, then for unseen data, it predicts the\n",
    " same number of steps ahead. We recognise there are other scenarios, but this is the\n",
    " cleanest way to start.\n",
    "\n",
    " The base class for all forecasters is `BaseForecaster`. It inherits from\n",
    " `BaseSeriesEstimator`, which is also the base class for the other series estimators\n",
    " in aeon: `BaseSegmenter`, `BaseAnomalyDetector` and `BaseSeriesTransformer`. The\n",
    " base class  `BaseSeriesEstimator` contains a method to validate and possibly convert\n",
    "  an input series.\n",
    "The `BaseForecaster` has three core methods: `fit`,  `predict` and `forecast`. It is\n",
    "an abstract class, and each of these methods calls a protected method `_fit`,\n",
    "`_predict` and `_forecast`.\n"
   ],
   "metadata": {
    "collapsed": false
   }
  },
  {
   "cell_type": "code",
   "execution_count": 1,
   "outputs": [
    {
     "name": "stdout",
     "output_type": "stream",
     "text": [
      "['clone', 'fit', 'forecast', 'get_fitted_params', 'get_metadata_routing', 'get_params', 'get_tag', 'get_tags', 'predict', 'reset', 'set_params', 'set_tags']\n"
     ]
    }
   ],
   "source": [
    "import inspect\n",
    "\n",
    "from aeon.forecasting import BaseForecaster\n",
    "\n",
    "# List methods\n",
    "public_methods = [\n",
    "    func[0]\n",
    "    for func in inspect.getmembers(BaseForecaster, predicate=inspect.isfunction)\n",
    "    if not func[0].startswith(\"_\")\n",
    "]\n",
    "print(public_methods)"
   ],
   "metadata": {
    "collapsed": false
   }
  },
  {
   "cell_type": "markdown",
   "source": [
    " All estimators in `aeon` have tags. One specific to\n",
    "forecasting is `y_inner_type`. This specifies the inner type the sub class of\n",
    "BaseForecaster needs to input the method `_fit` and `_predict`. The default is `np\n",
    ".ndarray` but it can also be `pd.DataFrame` or `pd.Series`. You can pass\n",
    "forecaster and of `SERIES_DATA_TYPES` and it will be converted to  `y_inner_type` in\n",
    "`fit`, `predict` and `forecast`."
   ],
   "metadata": {
    "collapsed": false
   }
  },
  {
   "cell_type": "code",
   "execution_count": 2,
   "outputs": [
    {
     "name": "stdout",
     "output_type": "stream",
     "text": [
      " Possible data structures for input to forecaster  ['pd.Series', 'pd.DataFrame', 'np.ndarray']\n",
      "\n",
      " Tags for BaseForecaster:  {'python_version': None, 'python_dependencies': None, 'cant_pickle': False, 'non_deterministic': False, 'algorithm_type': None, 'capability:missing_values': False, 'capability:multithreading': False, 'capability:univariate': True, 'capability:multivariate': False, 'X_inner_type': 'np.ndarray', 'y_inner_type': 'np.ndarray'}\n"
     ]
    }
   ],
   "source": [
    "from aeon.utils import SERIES_DATA_TYPES\n",
    "\n",
    "print(\" Possible data structures for input to forecaster \", SERIES_DATA_TYPES)\n",
    "print(\"\\n Tags for BaseForecaster: \", BaseForecaster.get_class_tags())"
   ],
   "metadata": {
    "collapsed": false
   }
  },
  {
   "cell_type": "markdown",
   "source": [
    "We use the standard airline dataset for examples. This can be stored as a pd.Series,\n",
    "pd.DataFrame or np.ndarray."
   ],
   "metadata": {
    "collapsed": false
   }
  },
  {
   "cell_type": "code",
   "execution_count": 3,
   "outputs": [
    {
     "name": "stdout",
     "output_type": "stream",
     "text": [
      "<class 'pandas.core.series.Series'>\n"
     ]
    }
   ],
   "source": [
    "import pandas as pd\n",
    "\n",
    "from aeon.datasets import load_airline\n",
    "\n",
    "y = load_airline()\n",
    "print(type(y))\n",
    "y2 = y.to_numpy()\n",
    "y3 = pd.DataFrame(y)"
   ],
   "metadata": {
    "collapsed": false
   }
  },
  {
   "cell_type": "markdown",
   "source": [
    "## DummyForecaster\n",
    "\n",
    "A dummy forecaster can illustrate the use cases for forecasting. This\n",
    "forecaster simply returns the last value of the train data for the forecast. By\n",
    "default the horizon is 1. It makes no difference for this forecaster. It's inner type\n",
    " is `np.ndarray` so all three allowable input types are internally converted to numpy\n",
    "  arrays."
   ],
   "metadata": {
    "collapsed": false
   }
  },
  {
   "cell_type": "code",
   "execution_count": 4,
   "outputs": [
    {
     "name": "stdout",
     "output_type": "stream",
     "text": [
      "np.ndarray\n",
      "432.0\n"
     ]
    }
   ],
   "source": [
    "# Fit then predict\n",
    "from aeon.forecasting import DummyForecaster\n",
    "\n",
    "d = DummyForecaster()\n",
    "print(d.get_tag(\"y_inner_type\"))\n",
    "d.fit(y)\n",
    "p = d.predict()\n",
    "print(p)"
   ],
   "metadata": {
    "collapsed": false
   }
  },
  {
   "cell_type": "code",
   "execution_count": 5,
   "outputs": [
    {
     "name": "stdout",
     "output_type": "stream",
     "text": [
      "432.0\n"
     ]
    }
   ],
   "source": [
    "# forecast is equivalent to fit_predict in other estimators\n",
    "p2 = d.forecast(y)\n",
    "print(p2)"
   ],
   "metadata": {
    "collapsed": false
   }
  },
  {
   "cell_type": "markdown",
   "source": [
    "## Regression based forecasting\n",
    "\n",
    "Our main focus will be forecasting through a sliding window and a regressor. We\n",
    "provide a basic implementation of this in `RegressionForecaster`. This class can take\n",
    " a regressor as a constructor parameter. It will train the regressor on the windowed\n",
    " series, then apply the data to new series. There will be a notebook for more details\n",
    "  of the use of RegressionForecaster. We just use it to demonstrate different horizons"
   ],
   "metadata": {
    "collapsed": false
   }
  },
  {
   "cell_type": "code",
   "execution_count": 6,
   "outputs": [
    {
     "ename": "ValueError",
     "evalue": "Expected 2D array, got 1D array instead:\narray=[420. 472. 548. 559. 463. 407. 362. 405. 417. 391. 419. 461. 472. 535.\n 622. 606. 508. 461. 390. 432.].\nReshape your data either using array.reshape(-1, 1) if your data has a single feature or array.reshape(1, -1) if it contains a single sample.",
     "output_type": "error",
     "traceback": [
      "\u001B[1;31m---------------------------------------------------------------------------\u001B[0m",
      "\u001B[1;31mValueError\u001B[0m                                Traceback (most recent call last)",
      "Cell \u001B[1;32mIn[6], line 4\u001B[0m\n\u001B[0;32m      2\u001B[0m r \u001B[38;5;241m=\u001B[39m RegressionForecaster(window \u001B[38;5;241m=\u001B[39m \u001B[38;5;241m20\u001B[39m)\n\u001B[0;32m      3\u001B[0m r\u001B[38;5;241m.\u001B[39mfit(y)\n\u001B[1;32m----> 4\u001B[0m p \u001B[38;5;241m=\u001B[39m \u001B[43mr\u001B[49m\u001B[38;5;241;43m.\u001B[39;49m\u001B[43mpredict\u001B[49m\u001B[43m(\u001B[49m\u001B[43m)\u001B[49m\n\u001B[0;32m      5\u001B[0m \u001B[38;5;28mprint\u001B[39m(p)\n\u001B[0;32m      6\u001B[0m r2 \u001B[38;5;241m=\u001B[39m RegressionForecaster(window \u001B[38;5;241m=\u001B[39m \u001B[38;5;241m20\u001B[39m, horizon \u001B[38;5;241m=\u001B[39m \u001B[38;5;241m5\u001B[39m)\n",
      "File \u001B[1;32mC:\\Code\\aeon\\aeon\\forecasting\\base.py:105\u001B[0m, in \u001B[0;36mBaseForecaster.predict\u001B[1;34m(self, y, exog)\u001B[0m\n\u001B[0;32m    103\u001B[0m \u001B[38;5;66;03m# Validate exog\u001B[39;00m\n\u001B[0;32m    104\u001B[0m \u001B[38;5;28mself\u001B[39m\u001B[38;5;241m.\u001B[39m_is_fitted \u001B[38;5;241m=\u001B[39m \u001B[38;5;28;01mTrue\u001B[39;00m\n\u001B[1;32m--> 105\u001B[0m \u001B[38;5;28;01mreturn\u001B[39;00m \u001B[38;5;28;43mself\u001B[39;49m\u001B[38;5;241;43m.\u001B[39;49m\u001B[43m_predict\u001B[49m\u001B[43m(\u001B[49m\u001B[43my\u001B[49m\u001B[43m,\u001B[49m\u001B[43m \u001B[49m\u001B[43mexog\u001B[49m\u001B[43m)\u001B[49m\n",
      "File \u001B[1;32mC:\\Code\\aeon\\aeon\\forecasting\\_regression.py:52\u001B[0m, in \u001B[0;36mRegressionForecaster._predict\u001B[1;34m(self, y, exog)\u001B[0m\n\u001B[0;32m     50\u001B[0m \u001B[38;5;250m\u001B[39m\u001B[38;5;124;03m\"\"\"Predict values for time series X.\"\"\"\u001B[39;00m\n\u001B[0;32m     51\u001B[0m \u001B[38;5;28;01mif\u001B[39;00m y \u001B[38;5;129;01mis\u001B[39;00m \u001B[38;5;28;01mNone\u001B[39;00m:\n\u001B[1;32m---> 52\u001B[0m     \u001B[38;5;28;01mreturn\u001B[39;00m \u001B[38;5;28;43mself\u001B[39;49m\u001B[38;5;241;43m.\u001B[39;49m\u001B[43mregressor_\u001B[49m\u001B[38;5;241;43m.\u001B[39;49m\u001B[43mpredict\u001B[49m\u001B[43m(\u001B[49m\u001B[38;5;28;43mself\u001B[39;49m\u001B[38;5;241;43m.\u001B[39;49m\u001B[43mlast_\u001B[49m\u001B[43m)\u001B[49m\n\u001B[0;32m     53\u001B[0m y \u001B[38;5;241m=\u001B[39m y\u001B[38;5;241m.\u001B[39msqueeze()\n\u001B[0;32m     54\u001B[0m \u001B[38;5;28;01mreturn\u001B[39;00m \u001B[38;5;28mself\u001B[39m\u001B[38;5;241m.\u001B[39mregressor_\u001B[38;5;241m.\u001B[39mpredict(y[\u001B[38;5;241m-\u001B[39m\u001B[38;5;28mself\u001B[39m\u001B[38;5;241m.\u001B[39mwindow :])\n",
      "File \u001B[1;32mC:\\Code\\aeon\\venv\\lib\\site-packages\\sklearn\\linear_model\\_base.py:306\u001B[0m, in \u001B[0;36mLinearModel.predict\u001B[1;34m(self, X)\u001B[0m\n\u001B[0;32m    292\u001B[0m \u001B[38;5;28;01mdef\u001B[39;00m \u001B[38;5;21mpredict\u001B[39m(\u001B[38;5;28mself\u001B[39m, X):\n\u001B[0;32m    293\u001B[0m \u001B[38;5;250m    \u001B[39m\u001B[38;5;124;03m\"\"\"\u001B[39;00m\n\u001B[0;32m    294\u001B[0m \u001B[38;5;124;03m    Predict using the linear model.\u001B[39;00m\n\u001B[0;32m    295\u001B[0m \n\u001B[1;32m   (...)\u001B[0m\n\u001B[0;32m    304\u001B[0m \u001B[38;5;124;03m        Returns predicted values.\u001B[39;00m\n\u001B[0;32m    305\u001B[0m \u001B[38;5;124;03m    \"\"\"\u001B[39;00m\n\u001B[1;32m--> 306\u001B[0m     \u001B[38;5;28;01mreturn\u001B[39;00m \u001B[38;5;28;43mself\u001B[39;49m\u001B[38;5;241;43m.\u001B[39;49m\u001B[43m_decision_function\u001B[49m\u001B[43m(\u001B[49m\u001B[43mX\u001B[49m\u001B[43m)\u001B[49m\n",
      "File \u001B[1;32mC:\\Code\\aeon\\venv\\lib\\site-packages\\sklearn\\linear_model\\_base.py:285\u001B[0m, in \u001B[0;36mLinearModel._decision_function\u001B[1;34m(self, X)\u001B[0m\n\u001B[0;32m    282\u001B[0m \u001B[38;5;28;01mdef\u001B[39;00m \u001B[38;5;21m_decision_function\u001B[39m(\u001B[38;5;28mself\u001B[39m, X):\n\u001B[0;32m    283\u001B[0m     check_is_fitted(\u001B[38;5;28mself\u001B[39m)\n\u001B[1;32m--> 285\u001B[0m     X \u001B[38;5;241m=\u001B[39m \u001B[38;5;28;43mself\u001B[39;49m\u001B[38;5;241;43m.\u001B[39;49m\u001B[43m_validate_data\u001B[49m\u001B[43m(\u001B[49m\u001B[43mX\u001B[49m\u001B[43m,\u001B[49m\u001B[43m \u001B[49m\u001B[43maccept_sparse\u001B[49m\u001B[38;5;241;43m=\u001B[39;49m\u001B[43m[\u001B[49m\u001B[38;5;124;43m\"\u001B[39;49m\u001B[38;5;124;43mcsr\u001B[39;49m\u001B[38;5;124;43m\"\u001B[39;49m\u001B[43m,\u001B[49m\u001B[43m \u001B[49m\u001B[38;5;124;43m\"\u001B[39;49m\u001B[38;5;124;43mcsc\u001B[39;49m\u001B[38;5;124;43m\"\u001B[39;49m\u001B[43m,\u001B[49m\u001B[43m \u001B[49m\u001B[38;5;124;43m\"\u001B[39;49m\u001B[38;5;124;43mcoo\u001B[39;49m\u001B[38;5;124;43m\"\u001B[39;49m\u001B[43m]\u001B[49m\u001B[43m,\u001B[49m\u001B[43m \u001B[49m\u001B[43mreset\u001B[49m\u001B[38;5;241;43m=\u001B[39;49m\u001B[38;5;28;43;01mFalse\u001B[39;49;00m\u001B[43m)\u001B[49m\n\u001B[0;32m    286\u001B[0m     coef_ \u001B[38;5;241m=\u001B[39m \u001B[38;5;28mself\u001B[39m\u001B[38;5;241m.\u001B[39mcoef_\n\u001B[0;32m    287\u001B[0m     \u001B[38;5;28;01mif\u001B[39;00m coef_\u001B[38;5;241m.\u001B[39mndim \u001B[38;5;241m==\u001B[39m \u001B[38;5;241m1\u001B[39m:\n",
      "File \u001B[1;32mC:\\Code\\aeon\\venv\\lib\\site-packages\\sklearn\\base.py:633\u001B[0m, in \u001B[0;36mBaseEstimator._validate_data\u001B[1;34m(self, X, y, reset, validate_separately, cast_to_ndarray, **check_params)\u001B[0m\n\u001B[0;32m    631\u001B[0m         out \u001B[38;5;241m=\u001B[39m X, y\n\u001B[0;32m    632\u001B[0m \u001B[38;5;28;01melif\u001B[39;00m \u001B[38;5;129;01mnot\u001B[39;00m no_val_X \u001B[38;5;129;01mand\u001B[39;00m no_val_y:\n\u001B[1;32m--> 633\u001B[0m     out \u001B[38;5;241m=\u001B[39m check_array(X, input_name\u001B[38;5;241m=\u001B[39m\u001B[38;5;124m\"\u001B[39m\u001B[38;5;124mX\u001B[39m\u001B[38;5;124m\"\u001B[39m, \u001B[38;5;241m*\u001B[39m\u001B[38;5;241m*\u001B[39mcheck_params)\n\u001B[0;32m    634\u001B[0m \u001B[38;5;28;01melif\u001B[39;00m no_val_X \u001B[38;5;129;01mand\u001B[39;00m \u001B[38;5;129;01mnot\u001B[39;00m no_val_y:\n\u001B[0;32m    635\u001B[0m     out \u001B[38;5;241m=\u001B[39m _check_y(y, \u001B[38;5;241m*\u001B[39m\u001B[38;5;241m*\u001B[39mcheck_params)\n",
      "File \u001B[1;32mC:\\Code\\aeon\\venv\\lib\\site-packages\\sklearn\\utils\\validation.py:1050\u001B[0m, in \u001B[0;36mcheck_array\u001B[1;34m(array, accept_sparse, accept_large_sparse, dtype, order, copy, force_writeable, force_all_finite, ensure_2d, allow_nd, ensure_min_samples, ensure_min_features, estimator, input_name)\u001B[0m\n\u001B[0;32m   1043\u001B[0m         \u001B[38;5;28;01melse\u001B[39;00m:\n\u001B[0;32m   1044\u001B[0m             msg \u001B[38;5;241m=\u001B[39m (\n\u001B[0;32m   1045\u001B[0m                 \u001B[38;5;124mf\u001B[39m\u001B[38;5;124m\"\u001B[39m\u001B[38;5;124mExpected 2D array, got 1D array instead:\u001B[39m\u001B[38;5;130;01m\\n\u001B[39;00m\u001B[38;5;124marray=\u001B[39m\u001B[38;5;132;01m{\u001B[39;00marray\u001B[38;5;132;01m}\u001B[39;00m\u001B[38;5;124m.\u001B[39m\u001B[38;5;130;01m\\n\u001B[39;00m\u001B[38;5;124m\"\u001B[39m\n\u001B[0;32m   1046\u001B[0m                 \u001B[38;5;124m\"\u001B[39m\u001B[38;5;124mReshape your data either using array.reshape(-1, 1) if \u001B[39m\u001B[38;5;124m\"\u001B[39m\n\u001B[0;32m   1047\u001B[0m                 \u001B[38;5;124m\"\u001B[39m\u001B[38;5;124myour data has a single feature or array.reshape(1, -1) \u001B[39m\u001B[38;5;124m\"\u001B[39m\n\u001B[0;32m   1048\u001B[0m                 \u001B[38;5;124m\"\u001B[39m\u001B[38;5;124mif it contains a single sample.\u001B[39m\u001B[38;5;124m\"\u001B[39m\n\u001B[0;32m   1049\u001B[0m             )\n\u001B[1;32m-> 1050\u001B[0m         \u001B[38;5;28;01mraise\u001B[39;00m \u001B[38;5;167;01mValueError\u001B[39;00m(msg)\n\u001B[0;32m   1052\u001B[0m \u001B[38;5;28;01mif\u001B[39;00m dtype_numeric \u001B[38;5;129;01mand\u001B[39;00m \u001B[38;5;28mhasattr\u001B[39m(array\u001B[38;5;241m.\u001B[39mdtype, \u001B[38;5;124m\"\u001B[39m\u001B[38;5;124mkind\u001B[39m\u001B[38;5;124m\"\u001B[39m) \u001B[38;5;129;01mand\u001B[39;00m array\u001B[38;5;241m.\u001B[39mdtype\u001B[38;5;241m.\u001B[39mkind \u001B[38;5;129;01min\u001B[39;00m \u001B[38;5;124m\"\u001B[39m\u001B[38;5;124mUSV\u001B[39m\u001B[38;5;124m\"\u001B[39m:\n\u001B[0;32m   1053\u001B[0m     \u001B[38;5;28;01mraise\u001B[39;00m \u001B[38;5;167;01mValueError\u001B[39;00m(\n\u001B[0;32m   1054\u001B[0m         \u001B[38;5;124m\"\u001B[39m\u001B[38;5;124mdtype=\u001B[39m\u001B[38;5;124m'\u001B[39m\u001B[38;5;124mnumeric\u001B[39m\u001B[38;5;124m'\u001B[39m\u001B[38;5;124m is not compatible with arrays of bytes/strings.\u001B[39m\u001B[38;5;124m\"\u001B[39m\n\u001B[0;32m   1055\u001B[0m         \u001B[38;5;124m\"\u001B[39m\u001B[38;5;124mConvert your data to numeric values explicitly instead.\u001B[39m\u001B[38;5;124m\"\u001B[39m\n\u001B[0;32m   1056\u001B[0m     )\n",
      "\u001B[1;31mValueError\u001B[0m: Expected 2D array, got 1D array instead:\narray=[420. 472. 548. 559. 463. 407. 362. 405. 417. 391. 419. 461. 472. 535.\n 622. 606. 508. 461. 390. 432.].\nReshape your data either using array.reshape(-1, 1) if your data has a single feature or array.reshape(1, -1) if it contains a single sample."
     ]
    }
   ],
   "source": [
    "from aeon.forecasting import RegressionForecaster\n",
    "\n",
    "r = RegressionForecaster(window=20)\n",
    "r.fit(y)\n",
    "p = r.predict()\n",
    "print(p)\n",
    "r2 = RegressionForecaster(window=20, horizon=5)\n",
    "r.fit(y)\n",
    "p = r.predict()\n",
    "print(p)"
   ],
   "metadata": {
    "collapsed": false
   }
  },
  {
   "cell_type": "markdown",
   "source": [],
   "metadata": {
    "collapsed": false
   }
  }
 ],
 "metadata": {
  "kernelspec": {
   "display_name": "Python 3",
   "language": "python",
   "name": "python3"
  },
  "language_info": {
   "codemirror_mode": {
    "name": "ipython",
    "version": 2
   },
   "file_extension": ".py",
   "mimetype": "text/x-python",
   "name": "python",
   "nbconvert_exporter": "python",
   "pygments_lexer": "ipython2",
   "version": "2.7.6"
  }
 },
 "nbformat": 4,
 "nbformat_minor": 0
}
