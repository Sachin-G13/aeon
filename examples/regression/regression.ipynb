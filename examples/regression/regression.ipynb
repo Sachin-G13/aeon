{
 "cells": [
  {
   "cell_type": "markdown",
   "source": [
    "# Time Series Extrinsic Regression (TSER) with aeon\n",
    "\n",
    "Time Series Regression (TSR) involves training a model from a collection of time\n",
    "series (real valued, ordered, data) in order to predict a continuous target variable.\n",
    "\n",
    "There are two types of TSR.\n",
    "\n",
    "1) Time Series Forecasting Regression (TSFR) relates to forecasting reduced to regression\n",
    "through a sliding window. This is the more familiar type to most people. The notebook\n",
    "for forecasting using supervised regressors can be found [here](../forecasting/forecasting_sklearn.ipynb).\n",
    "\n",
    "2) Time Series *Extrinsic* Regression (TSER) was formally specified in Tan et al. [1] as a\n",
    "related, but distinct, type of time series regression problem. Rather than being derived from a\n",
    "forecasting problem, TSER involves a predictive model built on time series to predict a real-valued\n",
    "variable distinct from the training input series.\n",
    "\n",
    "This notebook focuses on the `aeon` regression module, which consists of algorithms for TSER.\n",
    "\n",
    "<img src=\"img/tser.png\" width=\"600\" alt=\"time series regression\">\n",
    "\n",
    "An example TSER problem is shown in the below image of soil spectrograms which can be used to estimate\n",
    "the potassium concentration. Ground truth is found through expensive\n",
    "lab based experiments that take some time. Spectrograms (ordered data series we treat as time series)\n",
    "are cheap to obtain and the data can be collected in any environment. An accurate regressor from spectrogram\n",
    "to concentration would make land and crop management more efficient.\n",
    "\n",
    "<img src=\"img/spectra.png\" width=\"600\" alt=\"spectrograph example\">"
   ],
   "metadata": {
    "collapsed": false
   }
  },
  {
   "cell_type": "markdown",
   "source": [
    "## Data Storage and Problem Types\n",
    "\n",
    "Regressors take time series input as either 3D numpy of shape`(n_cases, n_channels, n_timepoints)` for\n",
    "equal length series or as a list of 2D numpy of length `[n_cases]`. All regressors work with equal\n",
    "length problems. Regression functionality for unequal length is currently limited.\n",
    "\n",
    "`aeon` ships two example regression problems in the `datasets` module:"
   ],
   "metadata": {
    "collapsed": false
   }
  },
  {
   "cell_type": "code",
   "execution_count": 9,
   "source": [
    "import warnings\n",
    "\n",
    "import matplotlib.pyplot as plt\n",
    "import numpy as np\n",
    "\n",
    "from aeon.datasets import load_cardano_sentiment, load_covid_3month\n",
    "\n",
    "warnings.filterwarnings(\"ignore\")\n",
    "\n",
    "covid_train, covid_train_y = load_covid_3month(split=\"train\")\n",
    "covid_test, covid_test_y = load_covid_3month(split=\"test\")\n",
    "cardano_train, cardano_train_y = load_cardano_sentiment(split=\"train\")\n",
    "cardano_test, cardano_test_y = load_cardano_sentiment(split=\"test\")\n",
    "covid_train.shape"
   ],
   "metadata": {
    "collapsed": false,
    "ExecuteTime": {
     "end_time": "2023-08-23T19:10:31.722451500Z",
     "start_time": "2023-08-23T19:10:31.704499Z"
    }
   },
   "outputs": []
  },
  {
   "cell_type": "markdown",
   "source": [
    "Covid3Month is from the [monash tser archive](http://tseregression.org/) who in turn got\n",
    "the data from [WHO's COVID-19 database](https://covid19.who.int/). The goal of this dataset is to predict\n",
    "COVID-19's death rate on 1st April 2020 for each country using daily confirmed cases for the last three months.\n",
    "\n",
    "This dataset contains 201 time series (140 train, 61 test), where each time series is\n",
    "the daily confirmed cases for a country. The data is univariate, each series length 84."
   ],
   "metadata": {
    "collapsed": false
   }
  },
  {
   "cell_type": "code",
   "execution_count": 10,
   "source": [
    "plt.title(\"First three cases for Covid3Month\")\n",
    "plt.plot(covid_train[0][0])\n",
    "plt.plot(covid_train[1][0])\n",
    "plt.plot(covid_train[2][0])"
   ],
   "metadata": {
    "collapsed": false,
    "ExecuteTime": {
     "end_time": "2023-08-23T19:10:31.860693700Z",
     "start_time": "2023-08-23T19:10:31.721454600Z"
    }
   },
   "outputs": []
  },
  {
   "cell_type": "code",
   "execution_count": 11,
   "source": [
    "cardano_train.shape"
   ],
   "metadata": {
    "collapsed": false,
    "ExecuteTime": {
     "end_time": "2023-08-23T19:10:31.879699600Z",
     "start_time": "2023-08-23T19:10:31.860693700Z"
    }
   },
   "outputs": []
  },
  {
   "cell_type": "markdown",
   "source": [
    "The CardanoSentiment dataset was created By combining historical sentiment data for\n",
    "Cardano cryptocurrency, extracted from EODHistoricalData and made available on\n",
    "Kaggle, with historical price data for the same cryptocurrency extracted from\n",
    "CryptoDataDownload. The predictors are hourly close price (in USD) and traded\n",
    "volume during a day, resulting in 2-dimensional time series of length 24. The\n",
    "response variable is the normalized sentiment score on the day spanned by the timepoints."
   ],
   "metadata": {
    "collapsed": false
   }
  },
  {
   "cell_type": "code",
   "execution_count": 12,
   "source": [
    "plt.title(\"First three cases for CardanoSentiment\")\n",
    "plt.plot(cardano_train[0][0])\n",
    "plt.plot(cardano_train[1][0])\n",
    "plt.plot(cardano_train[2][0])"
   ],
   "metadata": {
    "collapsed": false,
    "ExecuteTime": {
     "end_time": "2023-08-23T19:10:32.017935500Z",
     "start_time": "2023-08-23T19:10:31.868671600Z"
    }
   },
   "outputs": []
  },
  {
   "cell_type": "markdown",
   "source": [],
   "metadata": {
    "collapsed": false
   }
  },
  {
   "cell_type": "markdown",
   "source": [
    "# Time Series Regressors in aeon\n",
    "\n",
    "All regressors inherit from the `BaseRegressor` class. Like classification and\n",
    "clustering, regressors have methods `fit` and `predict` to train and use the model.\n",
    "The list of regressors available can be found with `all_estimators`."
   ],
   "metadata": {
    "collapsed": false
   }
  },
  {
   "cell_type": "code",
   "execution_count": 13,
   "source": [
    "from aeon.registry import all_estimators\n",
    "\n",
    "all_estimators(\"regressor\", as_dataframe=True)"
   ],
   "metadata": {
    "collapsed": false,
    "ExecuteTime": {
     "end_time": "2023-08-23T19:10:32.074782800Z",
     "start_time": "2023-08-23T19:10:32.015968700Z"
    }
   },
   "outputs": []
  },
  {
   "cell_type": "markdown",
   "source": [
    "Currently we have 18 regressors, including deep learning, feature based, convolution\n",
    "based, interval based and distance based regressors, in addition to the utility\n",
    "regressors such as Dummy and Pipeline."
   ],
   "metadata": {
    "collapsed": false
   }
  },
  {
   "cell_type": "code",
   "execution_count": 14,
   "source": [
    "from aeon.regression.distance_based import KNeighborsTimeSeriesRegressor\n",
    "\n",
    "knn = KNeighborsTimeSeriesRegressor()\n",
    "knn.fit(covid_train, covid_train_y)\n",
    "p = knn.predict(covid_test)\n",
    "sse = np.sum((covid_test_y - p) * (covid_test_y - p))\n",
    "sse"
   ],
   "metadata": {
    "collapsed": false,
    "ExecuteTime": {
     "end_time": "2023-08-23T19:10:32.387392900Z",
     "start_time": "2023-08-23T19:10:32.075780800Z"
    }
   },
   "outputs": []
  },
  {
   "cell_type": "markdown",
   "source": [
    "## Multivariate Regression\n",
    "Nearly all of the regressors can handle multivariate data"
   ],
   "metadata": {
    "collapsed": false
   }
  },
  {
   "cell_type": "code",
   "execution_count": 15,
   "source": [
    "all_estimators(\n",
    "    \"regressor\", filter_tags={\"capability:multivariate\": True}, as_dataframe=True\n",
    ")"
   ],
   "metadata": {
    "collapsed": false,
    "ExecuteTime": {
     "end_time": "2023-08-23T19:10:32.443244300Z",
     "start_time": "2023-08-23T19:10:32.387392900Z"
    }
   },
   "outputs": []
  },
  {
   "cell_type": "code",
   "execution_count": 16,
   "source": [
    "from aeon.regression import DummyRegressor\n",
    "\n",
    "fp = KNeighborsTimeSeriesRegressor()\n",
    "dummy = DummyRegressor()\n",
    "dummy.fit(cardano_train, cardano_train_y)\n",
    "knn.fit(cardano_train, cardano_train_y)\n",
    "pred = knn.predict(cardano_test)\n",
    "res_knn = cardano_test_y - pred\n",
    "res_dummy = cardano_test_y - dummy.predict(cardano_test)\n",
    "plt.title(\"Raw residuals\")\n",
    "plt.plot(res_knn)\n",
    "plt.plot(res_dummy)"
   ],
   "metadata": {
    "collapsed": false,
    "ExecuteTime": {
     "end_time": "2023-08-23T19:10:32.623088500Z",
     "start_time": "2023-08-23T19:10:32.445212600Z"
    }
   },
   "outputs": []
  },
  {
   "cell_type": "markdown",
   "source": [
    "## References\n",
    "\n",
    "[1] Tan et al. \"Time series extrinsic regression\", Data Mining and Knowledge\n",
    "Discovery, 35(3), 2021\n",
    "[2] Guijo-Rubio et al. \"Unsupervised Feature Based Algorithms for Time Series\n",
    "Extrinsic Regression\", ArXiv, 2023"
   ],
   "metadata": {
    "collapsed": false
   }
  }
 ],
 "metadata": {
  "kernelspec": {
   "display_name": "Python 3",
   "language": "python",
   "name": "python3"
  },
  "language_info": {
   "codemirror_mode": {
    "name": "ipython",
    "version": 2
   },
   "file_extension": ".py",
   "mimetype": "text/x-python",
   "name": "python",
   "nbconvert_exporter": "python",
   "pygments_lexer": "ipython2",
   "version": "2.7.6"
  }
 },
 "nbformat": 4,
 "nbformat_minor": 0
}
