{
 "cells": [
  {
   "cell_type": "markdown",
   "source": [
    "# Learning Task Plotting\n",
    "\n",
    "This is a simple notebook displaying some of the learning task specific visualisation functionalities available in `aeon`.\n",
    "\n",
    "This is in-progress, and does not contain detailed descriptions and documentation yet."
   ],
   "metadata": {
    "collapsed": false
   },
   "id": "f8b6a3a90da2cea7"
  },
  {
   "cell_type": "code",
   "source": [
    "from aeon.datasets import load_airline, load_electric_devices_segmentation\n",
    "\n",
    "ed_seg, _, ed_seg_chp = load_electric_devices_segmentation()\n",
    "airline = load_airline()"
   ],
   "metadata": {
    "collapsed": false,
    "ExecuteTime": {
     "end_time": "2024-01-18T15:24:37.103965100Z",
     "start_time": "2024-01-18T15:24:36.964616Z"
    }
   },
   "id": "46abb028f2ff78da",
   "execution_count": 1,
   "outputs": []
  },
  {
   "cell_type": "markdown",
   "source": [
    "## Forecasting"
   ],
   "metadata": {
    "collapsed": false
   },
   "id": "3cd90576d36a186c"
  },
  {
   "cell_type": "code",
   "source": [
    "from aeon.forecasting.model_selection import SlidingWindowSplitter\n",
    "from aeon.visualisation import plot_series_windows"
   ],
   "metadata": {
    "collapsed": false,
    "ExecuteTime": {
     "end_time": "2024-01-18T15:24:37.674439100Z",
     "start_time": "2024-01-18T15:24:37.106956700Z"
    }
   },
   "id": "5c2fbda61a9871a3",
   "execution_count": 2,
   "outputs": []
  },
  {
   "cell_type": "code",
   "execution_count": 3,
   "id": "initial_id",
   "metadata": {
    "collapsed": true,
    "ExecuteTime": {
     "end_time": "2024-01-18T15:24:37.931750800Z",
     "start_time": "2024-01-18T15:24:37.680453500Z"
    }
   },
   "source": [
    "fh = list(range(1, 13))\n",
    "_ = plot_series_windows(\n",
    "    airline, SlidingWindowSplitter(fh=fh, window_length=60, step_length=len(fh))\n",
    ")"
   ],
   "outputs": []
  },
  {
   "cell_type": "markdown",
   "source": [
    "## Segmentation"
   ],
   "metadata": {
    "collapsed": false
   },
   "id": "a9ed5b9d52252c82"
  },
  {
   "cell_type": "code",
   "source": [
    "from aeon.visualisation import plot_series_with_change_points"
   ],
   "metadata": {
    "collapsed": false,
    "ExecuteTime": {
     "end_time": "2024-01-18T15:24:37.935740200Z",
     "start_time": "2024-01-18T15:24:37.932748100Z"
    }
   },
   "id": "413d8a53642b1e0",
   "execution_count": 4,
   "outputs": []
  },
  {
   "cell_type": "code",
   "source": [
    "_ = plot_series_with_change_points(ed_seg, ed_seg_chp)"
   ],
   "metadata": {
    "collapsed": false,
    "ExecuteTime": {
     "end_time": "2024-01-18T15:24:38.199066900Z",
     "start_time": "2024-01-18T15:24:37.937735800Z"
    }
   },
   "id": "6a23323763ee62a3",
   "execution_count": 5,
   "outputs": []
  }
 ],
 "metadata": {
  "kernelspec": {
   "display_name": "Python 3",
   "language": "python",
   "name": "python3"
  },
  "language_info": {
   "codemirror_mode": {
    "name": "ipython",
    "version": 2
   },
   "file_extension": ".py",
   "mimetype": "text/x-python",
   "name": "python",
   "nbconvert_exporter": "python",
   "pygments_lexer": "ipython2",
   "version": "2.7.6"
  }
 },
 "nbformat": 4,
 "nbformat_minor": 5
}
